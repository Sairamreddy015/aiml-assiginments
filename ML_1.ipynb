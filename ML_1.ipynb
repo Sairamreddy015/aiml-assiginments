{
  "nbformat": 4,
  "nbformat_minor": 0,
  "metadata": {
    "colab": {
      "provenance": []
    },
    "kernelspec": {
      "name": "python3",
      "display_name": "Python 3"
    },
    "language_info": {
      "name": "python"
    }
  },
  "cells": [
    {
      "cell_type": "code",
      "execution_count": 11,
      "metadata": {
        "colab": {
          "base_uri": "https://localhost:8080/"
        },
        "id": "483CzSsEAbzv",
        "outputId": "73630664-c0a9-4716-a774-fd095d7d37c6"
      },
      "outputs": [
        {
          "output_type": "stream",
          "name": "stdout",
          "text": [
            "          longitude      latitude  housing_median_age   total_rooms  \\\n",
            "count  20640.000000  20640.000000        20640.000000  20640.000000   \n",
            "mean    -119.569704     35.631861           28.639486   2635.763081   \n",
            "std        2.003532      2.135952           12.585558   2181.615252   \n",
            "min     -124.350000     32.540000            1.000000      2.000000   \n",
            "25%     -121.800000     33.930000           18.000000   1447.750000   \n",
            "50%     -118.490000     34.260000           29.000000   2127.000000   \n",
            "75%     -118.010000     37.710000           37.000000   3148.000000   \n",
            "max     -114.310000     41.950000           52.000000  39320.000000   \n",
            "\n",
            "       total_bedrooms    population    households  median_income  \\\n",
            "count    20433.000000  20640.000000  20640.000000   20640.000000   \n",
            "mean       537.870553   1425.476744    499.539680       3.870671   \n",
            "std        421.385070   1132.462122    382.329753       1.899822   \n",
            "min          1.000000      3.000000      1.000000       0.499900   \n",
            "25%        296.000000    787.000000    280.000000       2.563400   \n",
            "50%        435.000000   1166.000000    409.000000       3.534800   \n",
            "75%        647.000000   1725.000000    605.000000       4.743250   \n",
            "max       6445.000000  35682.000000   6082.000000      15.000100   \n",
            "\n",
            "       median_house_value  \n",
            "count        20640.000000  \n",
            "mean        206855.816909  \n",
            "std         115395.615874  \n",
            "min          14999.000000  \n",
            "25%         119600.000000  \n",
            "50%         179700.000000  \n",
            "75%         264725.000000  \n",
            "max         500001.000000  \n"
          ]
        }
      ],
      "source": [
        "import pandas as pd\n",
        "from sklearn.model_selection import train_test_split\n",
        "from sklearn.preprocessing import MinMaxScaler\n",
        "\n",
        "d=pd.read_csv('/content/housing.csv')\n",
        "print(d.describe())"
      ]
    },
    {
      "cell_type": "code",
      "source": [
        "print('data types:')\n",
        "print(d.dtypes)\n",
        "print('data shape:',d.shape)"
      ],
      "metadata": {
        "colab": {
          "base_uri": "https://localhost:8080/"
        },
        "id": "Rl4LUIMuDn5h",
        "outputId": "e2ba2186-bdc3-42dd-8759-4cff5ba67320"
      },
      "execution_count": 21,
      "outputs": [
        {
          "output_type": "stream",
          "name": "stdout",
          "text": [
            "longitude             float64\n",
            "latitude              float64\n",
            "housing_median_age    float64\n",
            "total_rooms           float64\n",
            "total_bedrooms        float64\n",
            "population            float64\n",
            "households            float64\n",
            "median_income         float64\n",
            "median_house_value    float64\n",
            "ocean_proximity        object\n",
            "dtype: object\n",
            "data shape: (20640, 10)\n"
          ]
        }
      ]
    },
    {
      "cell_type": "code",
      "source": [
        "print(d.isnull().sum())\n",
        "d.fillna(0, inplace=True)"
      ],
      "metadata": {
        "colab": {
          "base_uri": "https://localhost:8080/"
        },
        "id": "mfPYPGihGSPJ",
        "outputId": "142ff402-eee9-4f0f-edd9-fe7bdf7e6cae"
      },
      "execution_count": 25,
      "outputs": [
        {
          "output_type": "stream",
          "name": "stdout",
          "text": [
            "longitude             0\n",
            "latitude              0\n",
            "housing_median_age    0\n",
            "total_rooms           0\n",
            "total_bedrooms        0\n",
            "population            0\n",
            "households            0\n",
            "median_income         0\n",
            "median_house_value    0\n",
            "ocean_proximity       0\n",
            "dtype: int64\n"
          ]
        }
      ]
    },
    {
      "cell_type": "code",
      "source": [
        "X = d.drop('longitude', axis=1)\n",
        "y = d['longitude']\n",
        "print(X.head())\n",
        "print(y.head())"
      ],
      "metadata": {
        "colab": {
          "base_uri": "https://localhost:8080/"
        },
        "id": "wege3_ThHCkL",
        "outputId": "5f162f8d-0ddb-490f-e544-3a260e24bf50"
      },
      "execution_count": 44,
      "outputs": [
        {
          "output_type": "stream",
          "name": "stdout",
          "text": [
            "   latitude  housing_median_age  total_rooms  total_bedrooms  population  \\\n",
            "0     37.88                41.0        880.0           129.0       322.0   \n",
            "1     37.86                21.0       7099.0          1106.0      2401.0   \n",
            "2     37.85                52.0       1467.0           190.0       496.0   \n",
            "3     37.85                52.0       1274.0           235.0       558.0   \n",
            "4     37.85                52.0       1627.0           280.0       565.0   \n",
            "\n",
            "   households  median_income  median_house_value ocean_proximity  \n",
            "0       126.0         8.3252            452600.0        NEAR BAY  \n",
            "1      1138.0         8.3014            358500.0        NEAR BAY  \n",
            "2       177.0         7.2574            352100.0        NEAR BAY  \n",
            "3       219.0         5.6431            341300.0        NEAR BAY  \n",
            "4       259.0         3.8462            342200.0        NEAR BAY  \n",
            "0   -122.23\n",
            "1   -122.22\n",
            "2   -122.24\n",
            "3   -122.25\n",
            "4   -122.25\n",
            "Name: longitude, dtype: float64\n"
          ]
        }
      ]
    },
    {
      "cell_type": "code",
      "source": [
        "import pandas as pd\n",
        "from sklearn.preprocessing import MinMaxScaler\n",
        "d = pd.read_csv(\"/content/housing.csv\")\n",
        "numerical_features = d.select_dtypes(include=['int64',\n",
        "'float64']).columns\n",
        "categorical_features = d.select_dtypes(include=['object']).columns\n",
        "numerical_data = d[numerical_features]\n",
        "categorical_data = d[categorical_features]\n",
        "scaler = MinMaxScaler()\n",
        "numerical_scaled = scaler.fit_transform(numerical_data)\n",
        "numerical_scaled_df = pd.DataFrame(numerical_scaled,\n",
        "columns=numerical_data.columns)\n",
        "scaled_d = pd.concat([numerical_scaled_df, categorical_data], axis=1)\n",
        "print(scaled_d.head())"
      ],
      "metadata": {
        "colab": {
          "base_uri": "https://localhost:8080/"
        },
        "id": "YF4-G97FLXg-",
        "outputId": "7b4e033e-5e3f-4bc5-b025-1600e78dd43d"
      },
      "execution_count": 48,
      "outputs": [
        {
          "output_type": "stream",
          "name": "stdout",
          "text": [
            "   longitude  latitude  housing_median_age  total_rooms  total_bedrooms  \\\n",
            "0   0.211155  0.567481            0.784314     0.022331        0.019863   \n",
            "1   0.212151  0.565356            0.392157     0.180503        0.171477   \n",
            "2   0.210159  0.564293            1.000000     0.037260        0.029330   \n",
            "3   0.209163  0.564293            1.000000     0.032352        0.036313   \n",
            "4   0.209163  0.564293            1.000000     0.041330        0.043296   \n",
            "\n",
            "   population  households  median_income  median_house_value ocean_proximity  \n",
            "0    0.008941    0.020556       0.539668            0.902266        NEAR BAY  \n",
            "1    0.067210    0.186976       0.538027            0.708247        NEAR BAY  \n",
            "2    0.013818    0.028943       0.466028            0.695051        NEAR BAY  \n",
            "3    0.015555    0.035849       0.354699            0.672783        NEAR BAY  \n",
            "4    0.015752    0.042427       0.230776            0.674638        NEAR BAY  \n"
          ]
        }
      ]
    },
    {
      "cell_type": "code",
      "source": [
        "import pandas as pd\n",
        "from sklearn.model_selection import train_test_split\n",
        "from sklearn.preprocessing import MinMaxScaler\n",
        "a=pd.read_csv(\"/content/housing.csv\")\n",
        "features = a.drop(columns=['population'])\n",
        "target = a['population']\n",
        "X_train, X_test, y_train, y_test = train_test_split(features, target,\n",
        "test_size=0.2, random_state=42)\n",
        "print( X_train.shape, y_train.shape)\n",
        "print( X_test.shape, y_test.shape)"
      ],
      "metadata": {
        "colab": {
          "base_uri": "https://localhost:8080/"
        },
        "id": "rk67UqPNL5d5",
        "outputId": "8882aba4-be6a-43a4-9725-0c7c27bc9feb"
      },
      "execution_count": 50,
      "outputs": [
        {
          "output_type": "stream",
          "name": "stdout",
          "text": [
            "(16512, 9) (16512,)\n",
            "(4128, 9) (4128,)\n"
          ]
        }
      ]
    }
  ]
}