{
  "cells": [
    {
      "cell_type": "code",
      "execution_count": 1,
      "metadata": {
        "colab": {
          "base_uri": "https://localhost:8080/"
        },
        "id": "w7zQC-QA0LH0",
        "outputId": "466ac1c2-996f-4322-a3fb-be98d324a175"
      },
      "outputs": [
        {
          "ename": "ModuleNotFoundError",
          "evalue": "No module named 'numpy'",
          "output_type": "error",
          "traceback": [
            "\u001b[0;31m---------------------------------------------------------------------------\u001b[0m",
            "\u001b[0;31mModuleNotFoundError\u001b[0m                       Traceback (most recent call last)",
            "Cell \u001b[0;32mIn[1], line 1\u001b[0m\n\u001b[0;32m----> 1\u001b[0m \u001b[38;5;28;01mimport\u001b[39;00m \u001b[38;5;21;01mnumpy\u001b[39;00m \u001b[38;5;28;01mas\u001b[39;00m \u001b[38;5;21;01mnp\u001b[39;00m\n\u001b[1;32m      2\u001b[0m \u001b[38;5;28;01mimport\u001b[39;00m \u001b[38;5;21;01mpandas\u001b[39;00m \u001b[38;5;28;01mas\u001b[39;00m \u001b[38;5;21;01mpd\u001b[39;00m\n\u001b[1;32m      5\u001b[0m l1 \u001b[38;5;241m=\u001b[39m [\u001b[38;5;241m1\u001b[39m, \u001b[38;5;241m2\u001b[39m, \u001b[38;5;241m3\u001b[39m, \u001b[38;5;241m4\u001b[39m, \u001b[38;5;241m5\u001b[39m]\n",
            "\u001b[0;31mModuleNotFoundError\u001b[0m: No module named 'numpy'"
          ]
        }
      ],
      "source": [
        "import numpy as np\n",
        "import pandas as pd\n",
        "\n",
        "\n",
        "l1 = [1, 2, 3, 4, 5]\n",
        "l2 = [6, 7, 8, 9, 10]\n",
        "\n",
        "\n",
        "\n",
        "a1 = np.array(l1)\n",
        "a2 = np.array(l2)\n",
        "\n",
        "\n",
        "print(\"Type of array1:\", type(l1))\n",
        "print(\"Type of array2:\", type(a2))\n",
        "\n",
        "\n",
        "\n",
        "print(\"Multiplication of array1 and array2:\")\n",
        "print(a1 * a2)\n",
        "\n",
        "\n",
        "print(\"Division of array1 by array2:\")\n",
        "print(a1 / a2)\n",
        "\n",
        "\n",
        "print(\"array1 raised to the power of array2:\")\n",
        "print(a1 ** a2)\n",
        "\n",
        "print(\"Addition of two:\",l1 + l2)\n",
        "\n",
        "\n",
        "\n",
        "\n",
        "print(np.sin(a1))\n",
        "print(np.log(a2))\n",
        "print(np.log2(a1))\n",
        "print(np.exp(a2))\n"
      ]
    }
  ],
  "metadata": {
    "colab": {
      "provenance": []
    },
    "kernelspec": {
      "display_name": "Python 3",
      "name": "python3"
    },
    "language_info": {
      "codemirror_mode": {
        "name": "ipython",
        "version": 3
      },
      "file_extension": ".py",
      "mimetype": "text/x-python",
      "name": "python",
      "nbconvert_exporter": "python",
      "pygments_lexer": "ipython3",
      "version": "3.9.6"
    }
  },
  "nbformat": 4,
  "nbformat_minor": 0
}
